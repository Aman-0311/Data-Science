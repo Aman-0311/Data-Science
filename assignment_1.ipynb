{
 "cells": [
  {
   "cell_type": "markdown",
   "id": "fb933f7e",
   "metadata": {},
   "source": [
    "# Python Assignment - 1\n",
    "#### Carries 30 marks"
   ]
  },
  {
   "cell_type": "markdown",
   "id": "b4896514",
   "metadata": {},
   "source": [
    "### Write a Python program to sum of three given integers. However, if two values are equal sum will be zero."
   ]
  },
  {
   "cell_type": "code",
   "execution_count": 1,
   "id": "230cee62",
   "metadata": {},
   "outputs": [
    {
     "name": "stdout",
     "output_type": "stream",
     "text": [
      "6\n",
      "0\n",
      "0\n"
     ]
    }
   ],
   "source": [
    "def sum_of_three_integers(a, b, c):\n",
    "    if a == b or b == c or a == c:\n",
    "        return 0\n",
    "    else:\n",
    "        return a + b + c\n",
    "print(sum_of_three_integers(1, 2, 3))  \n",
    "print(sum_of_three_integers(1, 1, 1))  \n",
    "print(sum_of_three_integers(1, 2, 1))  "
   ]
  },
  {
   "cell_type": "markdown",
   "id": "44498b23",
   "metadata": {},
   "source": [
    "### Write a Python program to test whether a passed letter is a vowel or not."
   ]
  },
  {
   "cell_type": "code",
   "execution_count": 9,
   "id": "5800a1e9",
   "metadata": {},
   "outputs": [
    {
     "name": "stdout",
     "output_type": "stream",
     "text": [
      "True\n"
     ]
    }
   ],
   "source": [
    "def is_vowel(letter):\n",
    "  letter = letter.lower()\n",
    "  if letter in 'aeiou':\n",
    "    return True\n",
    "  else:\n",
    "    return False\n",
    "print(is_vowel(a))\n"
   ]
  },
  {
   "cell_type": "markdown",
   "id": "999e1c55",
   "metadata": {},
   "source": [
    "### Write python program that swap two number with temp variable and without temp variable."
   ]
  },
  {
   "cell_type": "code",
   "execution_count": 10,
   "id": "71b08ddf",
   "metadata": {},
   "outputs": [
    {
     "name": "stdout",
     "output_type": "stream",
     "text": [
      "After swapping:\n",
      "a = 10\n",
      "b = 5\n",
      "After swapping:\n",
      "a = 10\n",
      "b = 5\n"
     ]
    }
   ],
   "source": [
    "# With temp variable\n",
    "a = 5\n",
    "b = 10\n",
    "temp = a\n",
    "a = b\n",
    "b = temp\n",
    "print(\"After swapping:\")\n",
    "print(\"a =\", a)\n",
    "print(\"b =\", b)\n",
    "# Without temp variable\n",
    "a = 5\n",
    "b = 10\n",
    "a = a + b\n",
    "b = a - b\n",
    "a = a - b\n",
    "print(\"After swapping:\")\n",
    "print(\"a =\", a)\n",
    "print(\"b =\", b)"
   ]
  },
  {
   "cell_type": "markdown",
   "id": "d9805ba4",
   "metadata": {},
   "source": [
    "### Write a Python program to calculate the length of a string."
   ]
  },
  {
   "cell_type": "code",
   "execution_count": 27,
   "id": "df81befe",
   "metadata": {},
   "outputs": [
    {
     "data": {
      "text/plain": [
       "4"
      ]
     },
     "execution_count": 27,
     "metadata": {},
     "output_type": "execute_result"
    }
   ],
   "source": [
    "AT = (\"Cup\",\"Plate\",\"Saucer\",\"Kettle\")\n",
    "len(AT)\n"
   ]
  },
  {
   "cell_type": "markdown",
   "id": "99144e41",
   "metadata": {},
   "source": [
    "### Write a Python program to find whether a given number is even or odd,print out an appropriate message to the user."
   ]
  },
  {
   "cell_type": "code",
   "execution_count": 2,
   "id": "dbbf15d7",
   "metadata": {},
   "outputs": [
    {
     "name": "stdout",
     "output_type": "stream",
     "text": [
      "Enter a number: 19\n",
      "19 is an odd number.\n"
     ]
    }
   ],
   "source": [
    "number = int(input(\"Enter a number: \"))\n",
    "if number % 2 == 0:\n",
    "    print(\"{} is an even number.\".format(number))\n",
    "else:\n",
    "    print(\"{} is an odd number.\".format(number))\n"
   ]
  },
  {
   "cell_type": "markdown",
   "id": "0a560977",
   "metadata": {},
   "source": [
    "### write a programme to find biggest number of given three values."
   ]
  },
  {
   "cell_type": "code",
   "execution_count": 28,
   "id": "4f3fa091",
   "metadata": {},
   "outputs": [
    {
     "name": "stdout",
     "output_type": "stream",
     "text": [
      "Enter first number: 78\n",
      "Enter second number: 89\n",
      "Enter third number: 5\n",
      "The biggest number of 78, 89, and 5 is 89.\n"
     ]
    }
   ],
   "source": [
    "def find_biggest(a, b, c):\n",
    "    if a > b and a > c:\n",
    "        return a\n",
    "    elif b > a and b > c:\n",
    "        return b\n",
    "    else:\n",
    "        return c\n",
    "\n",
    "a = int(input(\"Enter first number: \"))\n",
    "b = int(input(\"Enter second number: \"))\n",
    "c = int(input(\"Enter third number: \"))\n",
    "\n",
    "biggest = find_biggest(a, b, c)\n",
    "print(f\"The biggest number of {a}, {b}, and {c} is {biggest}.\")"
   ]
  },
  {
   "cell_type": "markdown",
   "id": "5327a33b",
   "metadata": {},
   "source": [
    "### Write a Python program that will return true if the two given integer values are equal or their sum or difference is 5."
   ]
  },
  {
   "cell_type": "code",
   "execution_count": 4,
   "id": "1aa41bcc",
   "metadata": {},
   "outputs": [
    {
     "name": "stdout",
     "output_type": "stream",
     "text": [
      "False\n"
     ]
    }
   ],
   "source": [
    "def check_numbers(a, b):\n",
    "  if a == b or abs(a - b) == 5:\n",
    "    return True\n",
    "  else:\n",
    "    return False\n",
    "print(check_numbers(2,3))\n"
   ]
  },
  {
   "cell_type": "markdown",
   "id": "b1075328",
   "metadata": {},
   "source": [
    "### Write a python program to sum of the first n positive integers."
   ]
  },
  {
   "cell_type": "code",
   "execution_count": 29,
   "id": "5d474698",
   "metadata": {},
   "outputs": [
    {
     "name": "stdout",
     "output_type": "stream",
     "text": [
      "Enter a positive integer: 87\n",
      "The sum of the first 87 positive integers is 3828.\n"
     ]
    }
   ],
   "source": [
    "def sum_of_n_positive_integers(n):\n",
    "    return n * (n + 1) // 2\n",
    "\n",
    "n = int(input(\"Enter a positive integer: \"))\n",
    "result = sum_of_n_positive_integers(n)\n",
    "print(f\"The sum of the first {n} positive integers is {result}.\")\n"
   ]
  },
  {
   "cell_type": "markdown",
   "id": "e480000b",
   "metadata": {},
   "source": [
    "### Write a Python program to calculate the length of a string."
   ]
  },
  {
   "cell_type": "code",
   "execution_count": 6,
   "id": "e154e64e",
   "metadata": {},
   "outputs": [
    {
     "name": "stdout",
     "output_type": "stream",
     "text": [
      "13\n"
     ]
    }
   ],
   "source": [
    "string = \"Hello, world!\"\n",
    "length = len(string)\n",
    "print(length)"
   ]
  },
  {
   "cell_type": "markdown",
   "id": "83f1be28",
   "metadata": {},
   "source": [
    "### What is the purpose continue statement in python?"
   ]
  },
  {
   "cell_type": "code",
   "execution_count": null,
   "id": "0d74cb9e",
   "metadata": {},
   "outputs": [],
   "source": [
    "The purpose of the `continue` statement in Python is to skip the rest of the code inside the loop for the current iteration only. It does not stop the entire loop, but continues with the next iteration of the loop.\n"
   ]
  },
  {
   "cell_type": "markdown",
   "id": "728d8b7a",
   "metadata": {},
   "source": [
    "### Write a Python program to add 'ing' at the end of a given string (length should be at least 3). If the given string already ends with 'ing' then add 'ly' instead if the string length of the given string is less than 3, leave it unchanged.\n"
   ]
  },
  {
   "cell_type": "code",
   "execution_count": 30,
   "id": "c90c977e",
   "metadata": {},
   "outputs": [
    {
     "name": "stdout",
     "output_type": "stream",
     "text": [
      "swiming\n",
      "jumping\n",
      "eating\n",
      "go\n",
      "flying\n",
      "working\n",
      "\n",
      "a\n",
      "ab\n"
     ]
    }
   ],
   "source": [
    "def add_suffix(word):\n",
    "    if len(word) < 3:\n",
    "        return word\n",
    "    elif word.endswith('ing'):\n",
    "        return word + 'ly'\n",
    "    else:\n",
    "        return word + 'ing'\n",
    "    print(add_suffix('run'))\n",
    "print(add_suffix('swim'))\n",
    "print(add_suffix('jump')) \n",
    "print(add_suffix('eat')) \n",
    "print(add_suffix('go')) \n",
    "print(add_suffix('fly'))\n",
    "print(add_suffix('work'))\n",
    "print(add_suffix(''))\n",
    "print(add_suffix('a'))\n",
    "print(add_suffix('ab'))"
   ]
  },
  {
   "cell_type": "markdown",
   "id": "78208ba5",
   "metadata": {},
   "source": [
    "### Write a Python program to find the first appearance of the substring 'not' and 'poor' from a given string, if 'not' follows the 'poor', replace the whole 'not'...'poor' substring with 'good'. Return the resulting string"
   ]
  },
  {
   "cell_type": "code",
   "execution_count": 32,
   "id": "e53ef04c",
   "metadata": {},
   "outputs": [
    {
     "name": "stdout",
     "output_type": "stream",
     "text": [
      "The poor knight was not able to finish the quest.\n",
      "The poor knight was able to finish the quest.\n",
      "The knight was not able to finish the quest.\n",
      "\n",
      "a\n",
      "ab\n"
     ]
    }
   ],
   "source": [
    "def find_and_replace(s):\n",
    "    not_index = s.find('not')\n",
    "    poor_index = s.find('poor')\n",
    "\n",
    "    if not_index == -1 or poor_index == -1 or not_index > poor_index:\n",
    "        return s\n",
    "\n",
    "    good_substring = s[poor_index:poor_index+4]\n",
    "    s = s.replace(good_substring, 'good')\n",
    "\n",
    "    return s\n",
    "print(find_and_replace('The poor knight was not able to finish the quest.'))\n",
    "print(find_and_replace('The poor knight was able to finish the quest.'))\n",
    "print(find_and_replace('The knight was not able to finish the quest.'))\n",
    "print(find_and_replace(''))\n",
    "print(find_and_replace('a'))\n",
    "print(find_and_replace('ab'))\n"
   ]
  },
  {
   "cell_type": "markdown",
   "id": "7f264574",
   "metadata": {},
   "source": [
    "### Write a Python function to insert a string in the middle of a string."
   ]
  },
  {
   "cell_type": "code",
   "execution_count": 33,
   "id": "f4a4cffe",
   "metadata": {},
   "outputs": [
    {
     "name": "stdout",
     "output_type": "stream",
     "text": [
      "Hello, beautiful World!\n"
     ]
    }
   ],
   "source": [
    "def insert_string(original_string, string_to_insert, position):\n",
    "    \"\"\"\n",
    "    This function inserts a string in the middle of a string.\n",
    "\n",
    "    :param original_string: The original string.\n",
    "    :param string_to_insert: The string to insert.\n",
    "    :param position: The position where the string will be inserted.\n",
    "    :return: The resulting string.\n",
    "    \"\"\"\n",
    "    return original_string[:position] + string_to_insert + original_string[position:]\n",
    "print(insert_string('Hello, World!', 'beautiful ', 7))"
   ]
  },
  {
   "cell_type": "markdown",
   "id": "5435ccd0",
   "metadata": {},
   "source": [
    "### reverses a string if its length is a multiple of 4."
   ]
  },
  {
   "cell_type": "code",
   "execution_count": 70,
   "id": "e3554c81",
   "metadata": {},
   "outputs": [],
   "source": [
    "def reverse_string(s):\n",
    "    if len(s) % 4 == 0:\n",
    "        return s[::-1]\n",
    "    else:\n",
    "        return s\n",
    "    print(reverse_string(5))"
   ]
  },
  {
   "cell_type": "markdown",
   "id": "48d8671f",
   "metadata": {},
   "source": [
    "### Write a Python program to get a string made of the first 2 and the last 2 chars from a given a string. If the string length is less than 2, return instead of the empty string."
   ]
  },
  {
   "cell_type": "code",
   "execution_count": 72,
   "id": "b9907390",
   "metadata": {},
   "outputs": [],
   "source": [
    "def get_string(s):\n",
    "    if len(s) < 2:\n",
    "        return \"\"\n",
    "    else:\n",
    "        return s[:2] + s[-2:]\n",
    "    print(get_string('Python is superb!'))\n",
    "\n"
   ]
  },
  {
   "cell_type": "markdown",
   "id": "f0b39584",
   "metadata": {},
   "source": [
    "### Write a Python program to get a single string from two given strings, separated by a space and swap the first two characters of each string."
   ]
  },
  {
   "cell_type": "code",
   "execution_count": 39,
   "id": "e3e383d3",
   "metadata": {},
   "outputs": [
    {
     "name": "stdout",
     "output_type": "stream",
     "text": [
      "EUllo HeDONIX\n",
      "SCTA DAIENCE\n",
      "15000 6500000\n"
     ]
    }
   ],
   "source": [
    "def swap_first_two_characters(str1, str2):\n",
    "    swapped_str1 = str2[:2] + str1[2:]\n",
    "    swapped_str2 = str1[:2] + str2[2:]\n",
    "    return swapped_str1 + \" \" + swapped_str2\n",
    "print(swap_first_two_characters(\"Hello\", \"EUDONIX\"))\n",
    "print(swap_first_two_characters(\"DATA\", \"SCIENCE\"))\n",
    "print(swap_first_two_characters(\"65000\", \"1500000\"))"
   ]
  },
  {
   "cell_type": "markdown",
   "id": "323a62d0",
   "metadata": {},
   "source": [
    "### Write a Python program to get the Fibonacci series of given range."
   ]
  },
  {
   "cell_type": "code",
   "execution_count": 49,
   "id": "057b2df5",
   "metadata": {},
   "outputs": [
    {
     "name": "stdout",
     "output_type": "stream",
     "text": [
      "[987, 1597, 2584, 4181]\n"
     ]
    }
   ],
   "source": [
    "def fibonacci_series(n):\n",
    "    fib_series = [0, 1]\n",
    "    while len(fib_series) < n:\n",
    "        fib_series.append(fib_series[-1] + fib_series[-2])\n",
    "    return fib_series\n",
    "\n",
    "def get_fibonacci_range(start, end):\n",
    "    fib_series = fibonacci_series(end)\n",
    "    return fib_series[start:end]\n",
    "print(get_fibonacci_range(16, 20))"
   ]
  },
  {
   "cell_type": "markdown",
   "id": "d9013007",
   "metadata": {},
   "source": [
    "### Write a Python program to get the Factorial number of given number"
   ]
  },
  {
   "cell_type": "code",
   "execution_count": 52,
   "id": "da6371ef",
   "metadata": {},
   "outputs": [],
   "source": [
    "def factorial(n):\n",
    "    if n == 0:\n",
    "        return 1\n",
    "    else:\n",
    "        return n * factorial(n-1)\n",
    "    print(factorial(5))\n",
    "    \n",
    "    \n",
    "    \n"
   ]
  },
  {
   "cell_type": "code",
   "execution_count": null,
   "id": "6254db41",
   "metadata": {},
   "outputs": [],
   "source": []
  },
  {
   "cell_type": "markdown",
   "id": "81819365",
   "metadata": {},
   "source": [
    "### Write a Python program to check if a number is positive, negative or zero"
   ]
  },
  {
   "cell_type": "code",
   "execution_count": 68,
   "id": "fc38fb6e",
   "metadata": {},
   "outputs": [],
   "source": [
    "def check_number(num):\n",
    "    if num > 0:\n",
    "        return \"Positive\"\n",
    "    elif num < 0:\n",
    "        return \"Negative\"\n",
    "    else:\n",
    "        return \"Zero\"\n",
    "    print(check_number(10))\n",
    "    "
   ]
  },
  {
   "cell_type": "markdown",
   "id": "7defed1a",
   "metadata": {},
   "source": [
    "##  How memory is managed in Python?\n"
   ]
  },
  {
   "cell_type": "code",
   "execution_count": null,
   "id": "4093ff55",
   "metadata": {},
   "outputs": [],
   "source": [
    "In Python, memory management is handled by the Python Memory Manager (PMM). The PMM is responsible for allocating and deallocating memory for Python objects.\n",
    "# \n",
    "# When a Python program is executed, the PMM allocates a block of memory for each object that is created. This memory block is used to store the object's data and attributes.\n",
    "# \n",
    "# When an object is no longer needed, the PMM deallocates the memory block associated with that object. This process is known as garbage collection.\n",
    "# \n",
    "# Python uses a reference counting system to track the number of references to an object. When the reference count of an object drops to zero, the object is considered \"garbage\" and is deallocated.\n",
    "# \n",
    "# However, Python's reference counting system is not perfect. It does not handle circular references, where two or more objects reference each other, creating a cycle of references that cannot be broken.\n",
    "# \n",
    "# To address this issue, Python uses a cyclic garbage collector (GC). The GC periodically scans the memory and identifies objects that are part of a circular reference. It then deallocates these objects and breaks the cycle of references.\n",
    "# \n",
    "# In summary, Python's memory management system involves allocating and deallocating memory for objects, using a reference counting system to track object references, and employing a cyclic garbage collector to handle circular references.\n"
   ]
  },
  {
   "cell_type": "code",
   "execution_count": null,
   "id": "0b30663f",
   "metadata": {},
   "outputs": [],
   "source": []
  }
 ],
 "metadata": {
  "kernelspec": {
   "display_name": "Python 3 (ipykernel)",
   "language": "python",
   "name": "python3"
  },
  "language_info": {
   "codemirror_mode": {
    "name": "ipython",
    "version": 3
   },
   "file_extension": ".py",
   "mimetype": "text/x-python",
   "name": "python",
   "nbconvert_exporter": "python",
   "pygments_lexer": "ipython3",
   "version": "3.11.4"
  }
 },
 "nbformat": 4,
 "nbformat_minor": 5
}
