{
 "cells": [
  {
   "cell_type": "code",
   "execution_count": 2,
   "id": "158cca59",
   "metadata": {},
   "outputs": [
    {
     "name": "stdout",
     "output_type": "stream",
     "text": [
      "Enter your 4-digit PIN: 1234\n",
      "\n",
      "ATM Menu:\n",
      "1. Check Balance\n",
      "2. Withdraw Money\n",
      "3. Deposit Money\n",
      "4. Exit\n",
      "Enter your choice (1-4): 1\n",
      "Your balance: 1500\n",
      "\n",
      "ATM Menu:\n",
      "1. Check Balance\n",
      "2. Withdraw Money\n",
      "3. Deposit Money\n",
      "4. Exit\n",
      "Enter your choice (1-4): 2\n",
      "Enter the amount to withdraw: 750\n",
      "Withdrawal successful. Remaining balance: 750.0\n",
      "\n",
      "ATM Menu:\n",
      "1. Check Balance\n",
      "2. Withdraw Money\n",
      "3. Deposit Money\n",
      "4. Exit\n",
      "Enter your choice (1-4): 3\n",
      "Enter the amount to deposit: 100000000\n",
      "Deposit successful. Updated balance: 100000750.0\n",
      "\n",
      "ATM Menu:\n",
      "1. Check Balance\n",
      "2. Withdraw Money\n",
      "3. Deposit Money\n",
      "4. Exit\n",
      "Enter your choice (1-4): 4\n",
      "Thank you for using the ATM. Have a nice day!\n"
     ]
    }
   ],
   "source": [
    "# Dictionary to store account information (PIN as key and balance as value)\n",
    "account_data = {\n",
    "    \"1111\": 1500,\n",
    "    \"2222\": 2000,\n",
    "    \"9999\": 10000\n",
    "}\n",
    "\n",
    "# Function to check account balance\n",
    "def check_balance(pin):\n",
    "    return account_data.get(pin, \"Invalid PIN\")\n",
    "\n",
    "# Function to withdraw money\n",
    "def withdraw(pin, amount):\n",
    "    if pin in account_data and account_data[pin] >= amount:\n",
    "        account_data[pin] -= amount\n",
    "        return f\"Withdrawal successful. Remaining balance: {account_data[pin]}\"\n",
    "    elif pin not in account_data:\n",
    "        return \"Invalid PIN\"\n",
    "    else:\n",
    "        return \"Insufficient funds\"\n",
    "\n",
    "# Function to deposit money\n",
    "def deposit(pin, amount):\n",
    "    if pin in account_data:\n",
    "        account_data[pin] += amount\n",
    "        return f\"Deposit successful. Updated balance: {account_data[pin]}\"\n",
    "    else:\n",
    "        return \"Invalid PIN\"\n",
    "\n",
    "# Main function for ATM simulator\n",
    "def main():\n",
    "    pin = input(\"Enter your 4-digit PIN: \")\n",
    "\n",
    "    # Validate PIN\n",
    "    if pin not in account_data:\n",
    "        print(\"Invalid PIN\")\n",
    "        return\n",
    "\n",
    "    while True:\n",
    "        print(\"\\nATM Menu:\")\n",
    "        print(\"1. Check Balance\")\n",
    "        print(\"2. Withdraw Money\")\n",
    "        print(\"3. Deposit Money\")\n",
    "        print(\"4. Exit\")\n",
    "\n",
    "        choice = input(\"Enter your choice (1-4): \")\n",
    "\n",
    "        if choice == \"1\":\n",
    "            print(f\"Your balance: {check_balance(pin)}\")\n",
    "        elif choice == \"2\":\n",
    "            amount = float(input(\"Enter the amount to withdraw: \"))\n",
    "            print(withdraw(pin, amount))\n",
    "        elif choice == \"3\":\n",
    "            amount = float(input(\"Enter the amount to deposit: \"))\n",
    "            print(deposit(pin, amount))\n",
    "        elif choice == \"4\":\n",
    "            print(\"Thank you for using the ATM. Have a nice day!\")\n",
    "            break\n",
    "        else:\n",
    "            print(\"Invalid choice. Please try again.\")\n",
    "\n",
    "# Run the ATM simulator\n",
    "if __name__ == \"__main__\":\n",
    "    main()\n"
   ]
  },
  {
   "cell_type": "code",
   "execution_count": null,
   "id": "09122a19",
   "metadata": {},
   "outputs": [],
   "source": []
  },
  {
   "cell_type": "code",
   "execution_count": null,
   "id": "14c9005d",
   "metadata": {},
   "outputs": [],
   "source": []
  },
  {
   "cell_type": "code",
   "execution_count": null,
   "id": "9f5632e3",
   "metadata": {},
   "outputs": [],
   "source": []
  },
  {
   "cell_type": "code",
   "execution_count": null,
   "id": "a5a7915e",
   "metadata": {},
   "outputs": [],
   "source": []
  },
  {
   "cell_type": "code",
   "execution_count": null,
   "id": "440aff32",
   "metadata": {},
   "outputs": [],
   "source": []
  },
  {
   "cell_type": "code",
   "execution_count": null,
   "id": "de194ec1",
   "metadata": {},
   "outputs": [],
   "source": []
  },
  {
   "cell_type": "code",
   "execution_count": null,
   "id": "b85faffd",
   "metadata": {},
   "outputs": [],
   "source": []
  },
  {
   "cell_type": "code",
   "execution_count": null,
   "id": "b02b7c60",
   "metadata": {},
   "outputs": [],
   "source": []
  },
  {
   "cell_type": "code",
   "execution_count": null,
   "id": "9919dfcf",
   "metadata": {},
   "outputs": [],
   "source": []
  },
  {
   "cell_type": "code",
   "execution_count": null,
   "id": "90c89f7f",
   "metadata": {},
   "outputs": [],
   "source": []
  },
  {
   "cell_type": "code",
   "execution_count": null,
   "id": "0e0943b4",
   "metadata": {},
   "outputs": [],
   "source": []
  },
  {
   "cell_type": "code",
   "execution_count": null,
   "id": "19d6e0ef",
   "metadata": {},
   "outputs": [],
   "source": []
  },
  {
   "cell_type": "code",
   "execution_count": null,
   "id": "db2025cb",
   "metadata": {},
   "outputs": [],
   "source": []
  },
  {
   "cell_type": "code",
   "execution_count": null,
   "id": "099add86",
   "metadata": {},
   "outputs": [],
   "source": []
  },
  {
   "cell_type": "code",
   "execution_count": null,
   "id": "fdf8e657",
   "metadata": {},
   "outputs": [],
   "source": []
  },
  {
   "cell_type": "code",
   "execution_count": null,
   "id": "914a3fac",
   "metadata": {},
   "outputs": [],
   "source": []
  },
  {
   "cell_type": "code",
   "execution_count": null,
   "id": "dfcf6e25",
   "metadata": {},
   "outputs": [],
   "source": [
    "def get_user_input(timeout):\n",
    "    start_time = time.time()\n",
    "    while True:\n",
    "        user_input = input(\"Enter something: \")\n",
    "        if user_input:\n",
    "            return user_input\n",
    "        current_time = time.time()\n",
    "        if current_time - start_time > timeout:\n",
    "            print(\"Idle timeout reached. Exiting...\")\n",
    "            break\n",
    "\n",
    "# Set the idle timeout in seconds (e.g., 10 seconds)\n",
    "timeout_seconds = 10\n",
    "\n",
    "user_input = get_user_input(timeout_seconds)\n",
    "# Your code continues here after receiving user input or reaching the timeout"
   ]
  }
 ],
 "metadata": {
  "kernelspec": {
   "display_name": "Python 3 (ipykernel)",
   "language": "python",
   "name": "python3"
  },
  "language_info": {
   "codemirror_mode": {
    "name": "ipython",
    "version": 3
   },
   "file_extension": ".py",
   "mimetype": "text/x-python",
   "name": "python",
   "nbconvert_exporter": "python",
   "pygments_lexer": "ipython3",
   "version": "3.11.5"
  }
 },
 "nbformat": 4,
 "nbformat_minor": 5
}
