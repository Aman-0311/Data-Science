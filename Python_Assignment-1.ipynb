{
 "cells": [
  {
   "cell_type": "markdown",
   "metadata": {},
   "source": [
    "# Python Assignment - 1\n",
    "\n",
    "### Total - 30 marks"
   ]
  },
  {
   "cell_type": "markdown",
   "metadata": {},
   "source": [
    "## Variables and data types"
   ]
  },
  {
   "cell_type": "markdown",
   "metadata": {},
   "source": [
    "__Exercise 1 a)__ Create four variables and assign values with different data types to them"
   ]
  },
  {
   "cell_type": "code",
   "execution_count": 1,
   "metadata": {},
   "outputs": [],
   "source": [
    "#int, float, String, boolean\n"
   ]
  },
  {
   "cell_type": "code",
   "execution_count": null,
   "metadata": {},
   "outputs": [],
   "source": [
    "# Integer\n",
    "my_integer = 42\n",
    "\n",
    "# Float (decimal number)\n",
    "my_float = 3.14\n",
    "\n",
    "# String (text)\n",
    "my_string = \"Hello, World!\"\n",
    "\n",
    "# Boolean (True or False)\n",
    "my_boolean = True\n"
   ]
  },
  {
   "cell_type": "code",
   "execution_count": null,
   "metadata": {},
   "outputs": [],
   "source": []
  },
  {
   "cell_type": "code",
   "execution_count": null,
   "metadata": {},
   "outputs": [],
   "source": []
  },
  {
   "cell_type": "markdown",
   "metadata": {},
   "source": [
    "__Exercise 1 b)__ Print the variables using Python's built-in function print(_String_)"
   ]
  },
  {
   "cell_type": "code",
   "execution_count": null,
   "metadata": {},
   "outputs": [],
   "source": [
    "# Integer\n",
    "my_integer = 42\n",
    "print(\"my_integer:\", my_integer)\n",
    "\n"
   ]
  },
  {
   "cell_type": "code",
   "execution_count": null,
   "metadata": {},
   "outputs": [],
   "source": [
    "# Float (decimal number)\n",
    "my_float = 3.14\n",
    "print(\"my_float:\", my_float)\n"
   ]
  },
  {
   "cell_type": "code",
   "execution_count": null,
   "metadata": {},
   "outputs": [],
   "source": [
    "# String (text)\n",
    "my_string = \"Hello, World!\"\n",
    "print(\"my_string:\", my_string)"
   ]
  },
  {
   "cell_type": "code",
   "execution_count": null,
   "metadata": {},
   "outputs": [],
   "source": [
    "# String (text)\n",
    "my_string = \"Hello, World!\"\n",
    "print(\"my_string:\", my_string)"
   ]
  },
  {
   "cell_type": "code",
   "execution_count": null,
   "metadata": {},
   "outputs": [],
   "source": []
  },
  {
   "cell_type": "markdown",
   "metadata": {},
   "source": [
    "__Exercise 1 c)__ Print the data type of each variable using Python's built-in function type()"
   ]
  },
  {
   "cell_type": "code",
   "execution_count": null,
   "metadata": {},
   "outputs": [],
   "source": [
    "# Integer\n",
    "my_integer = 42\n",
    "print(\"Data type of my_integer:\", type(my_integer))\n",
    "\n",
    "\n",
    "\n",
    "\n"
   ]
  },
  {
   "cell_type": "code",
   "execution_count": null,
   "metadata": {},
   "outputs": [],
   "source": [
    "# Float (decimal number)\n",
    "my_float = 3.14\n",
    "print(\"Data type of my_float:\", type(my_float))\n"
   ]
  },
  {
   "cell_type": "code",
   "execution_count": null,
   "metadata": {},
   "outputs": [],
   "source": [
    "# String (text)\n",
    "my_string = \"Hello, World!\"\n",
    "print(\"Data type of my_string:\", type(my_string))\n"
   ]
  },
  {
   "cell_type": "code",
   "execution_count": null,
   "metadata": {},
   "outputs": [],
   "source": [
    "# Boolean (True or False)\n",
    "my_boolean = True\n",
    "print(\"Data type of my_boolean:\", type(my_boolean))"
   ]
  },
  {
   "cell_type": "markdown",
   "metadata": {},
   "source": [
    "__Exercise 2__ How do we use variables? Explore with arithmetic operators (+, -, *, /)!"
   ]
  },
  {
   "cell_type": "code",
   "execution_count": 2,
   "metadata": {},
   "outputs": [
    {
     "name": "stdout",
     "output_type": "stream",
     "text": [
      "8\n"
     ]
    }
   ],
   "source": [
    "# Example\n",
    "first_value = 3\n",
    "second_value = 5\n",
    "\n",
    "result = first_value + second_value\n",
    "print(result)"
   ]
  },
  {
   "cell_type": "code",
   "execution_count": null,
   "metadata": {},
   "outputs": [],
   "source": [
    "# Define variables\n",
    "num1 = 5\n",
    "num2 = 2\n",
    "\n",
    "# Addition\n",
    "sum_result = num1 + num2\n",
    "print(\"Sum:\", sum_result)\n",
    "\n",
    "\n",
    "\n",
    "\n"
   ]
  },
  {
   "cell_type": "code",
   "execution_count": null,
   "metadata": {},
   "outputs": [],
   "source": [
    "# Subtraction\n",
    "difference_result = num1 - num2\n",
    "print(\"Difference:\", difference_result)"
   ]
  },
  {
   "cell_type": "code",
   "execution_count": null,
   "metadata": {},
   "outputs": [],
   "source": [
    "# Multiplication\n",
    "product_result = num1 * num2\n",
    "print(\"Product:\", product_result)\n"
   ]
  },
  {
   "cell_type": "code",
   "execution_count": null,
   "metadata": {},
   "outputs": [],
   "source": [
    "# Division\n",
    "division_result = num1 / num2\n",
    "print(\"Division:\", division_result)\n"
   ]
  },
  {
   "cell_type": "markdown",
   "metadata": {},
   "source": [
    "## Example: Lists"
   ]
  },
  {
   "cell_type": "code",
   "execution_count": 3,
   "metadata": {},
   "outputs": [],
   "source": [
    "fruits = ['orange', 'apple', 'pear', 'banana', 'kiwi', 'mango', 'grapes']"
   ]
  },
  {
   "cell_type": "code",
   "execution_count": 4,
   "metadata": {},
   "outputs": [
    {
     "data": {
      "text/plain": [
       "'orange'"
      ]
     },
     "execution_count": 4,
     "metadata": {},
     "output_type": "execute_result"
    }
   ],
   "source": [
    "fruits[0]"
   ]
  },
  {
   "cell_type": "code",
   "execution_count": 5,
   "metadata": {},
   "outputs": [
    {
     "data": {
      "text/plain": [
       "'apple'"
      ]
     },
     "execution_count": 5,
     "metadata": {},
     "output_type": "execute_result"
    }
   ],
   "source": [
    "fruits[1]"
   ]
  },
  {
   "cell_type": "code",
   "execution_count": 6,
   "metadata": {},
   "outputs": [
    {
     "data": {
      "text/plain": [
       "'grapes'"
      ]
     },
     "execution_count": 6,
     "metadata": {},
     "output_type": "execute_result"
    }
   ],
   "source": [
    "fruits[-1]"
   ]
  },
  {
   "cell_type": "markdown",
   "metadata": {},
   "source": [
    "We can also specify a range of indexes specifying where to start and end the range"
   ]
  },
  {
   "cell_type": "code",
   "execution_count": 7,
   "metadata": {},
   "outputs": [
    {
     "data": {
      "text/plain": [
       "['pear', 'banana', 'kiwi']"
      ]
     },
     "execution_count": 7,
     "metadata": {},
     "output_type": "execute_result"
    }
   ],
   "source": [
    "fruits[2:5]"
   ]
  },
  {
   "cell_type": "code",
   "execution_count": 8,
   "metadata": {},
   "outputs": [
    {
     "data": {
      "text/plain": [
       "['pear', 'banana', 'kiwi', 'mango', 'grapes']"
      ]
     },
     "execution_count": 8,
     "metadata": {},
     "output_type": "execute_result"
    }
   ],
   "source": [
    "fruits[2:]"
   ]
  },
  {
   "cell_type": "code",
   "execution_count": 9,
   "metadata": {},
   "outputs": [
    {
     "data": {
      "text/plain": [
       "['orange', 'apple']"
      ]
     },
     "execution_count": 9,
     "metadata": {},
     "output_type": "execute_result"
    }
   ],
   "source": [
    "fruits[:2]"
   ]
  },
  {
   "cell_type": "markdown",
   "metadata": {},
   "source": [
    "__Exercise 3 a)__ Create a list with names of your friends and print the name of the first, second and last person"
   ]
  },
  {
   "cell_type": "code",
   "execution_count": 3,
   "metadata": {},
   "outputs": [
    {
     "data": {
      "text/plain": [
       "'Aman'"
      ]
     },
     "execution_count": 3,
     "metadata": {},
     "output_type": "execute_result"
    }
   ],
   "source": [
    "friends = ['Aman', 'Khushi','Harsh','Nidhi','Abhishek']\n",
    "friends[0]\n"
   ]
  },
  {
   "cell_type": "code",
   "execution_count": 4,
   "metadata": {},
   "outputs": [
    {
     "data": {
      "text/plain": [
       "'Khushi'"
      ]
     },
     "execution_count": 4,
     "metadata": {},
     "output_type": "execute_result"
    }
   ],
   "source": [
    "friends[1]\n"
   ]
  },
  {
   "cell_type": "code",
   "execution_count": 5,
   "metadata": {},
   "outputs": [
    {
     "data": {
      "text/plain": [
       "'Abhishek'"
      ]
     },
     "execution_count": 5,
     "metadata": {},
     "output_type": "execute_result"
    }
   ],
   "source": [
    "friends[4]"
   ]
  },
  {
   "cell_type": "markdown",
   "metadata": {},
   "source": [
    "__Exercise 3 b)__ Print your list of names using different ranges"
   ]
  },
  {
   "cell_type": "code",
   "execution_count": 42,
   "metadata": {},
   "outputs": [
    {
     "name": "stdout",
     "output_type": "stream",
     "text": [
      "All friends: ['Aman', 'Khushi', 'Harsh', 'Nidhi', 'Abhishek']\n",
      "First three names: ['Aman', 'Khushi', 'Harsh']\n",
      "Names from index 2 to 5: ['Harsh', 'Nidhi', 'Abhishek']\n",
      "Last two names: ['Nidhi', 'Abhishek']\n",
      "Every other name starting from index 1: ['Khushi', 'Nidhi']\n"
     ]
    }
   ],
   "source": [
    "\n",
    "friends = ['Aman', 'Khushi','Harsh','Nidhi','Abhishek']\n",
    "\n",
    "\n",
    "print(\"All friends:\", friends)\n",
    "\n",
    "\n",
    "print(\"First three names:\", friends[0:3])\n",
    "\n",
    "\n",
    "print(\"Names from index 2 to 5:\", friends[2:6])\n",
    "\n",
    "\n",
    "print(\"Last two names:\", friends[-2:])\n",
    "\n",
    "\n",
    "print(\"Every other name starting from index 1:\", friends[1::2])\n"
   ]
  },
  {
   "cell_type": "markdown",
   "metadata": {},
   "source": [
    "__Exercise 4 a)__ Count how many names you have added to the list using len(_[...]_) "
   ]
  },
  {
   "cell_type": "code",
   "execution_count": 43,
   "metadata": {},
   "outputs": [
    {
     "name": "stdout",
     "output_type": "stream",
     "text": [
      "Number of names in the list: 5\n"
     ]
    }
   ],
   "source": [
    "\n",
    "friends = ['Aman', 'Khushi','Harsh','Nidhi','Abhishek']\n",
    "\n",
    "\n",
    "num_friends = len(friends)\n",
    "\n",
    "\n",
    "print(\"Number of names in the list:\", num_friends)\n"
   ]
  },
  {
   "cell_type": "markdown",
   "metadata": {},
   "source": [
    "__Exercise 4 b)__ Add a new name to your list using append(_item_)"
   ]
  },
  {
   "cell_type": "code",
   "execution_count": 9,
   "metadata": {},
   "outputs": [
    {
     "name": "stdout",
     "output_type": "stream",
     "text": [
      "Updated list of friends: ['Aman', 'Khushi', 'Harsh', 'Nidhi', 'Abhishek', 'Pranjal']\n"
     ]
    }
   ],
   "source": [
    "new_name = \"Pranjal\"\n",
    "friends.append(new_name)\n",
    "print(\"Updated list of friends:\", friends)"
   ]
  },
  {
   "cell_type": "markdown",
   "metadata": {},
   "source": [
    "__Exercise 4 c)__ Print the list. Does it look as expected?"
   ]
  },
  {
   "cell_type": "code",
   "execution_count": 10,
   "metadata": {},
   "outputs": [
    {
     "name": "stdout",
     "output_type": "stream",
     "text": [
      "['Aman', 'Khushi', 'Harsh', 'Nidhi', 'Abhishek', 'Pranjal']\n"
     ]
    }
   ],
   "source": [
    "print(friends)"
   ]
  },
  {
   "cell_type": "markdown",
   "metadata": {},
   "source": [
    "__Exercise 4 d)__ Add a new name on the _third_ position in your list using insert(_position_, _item_)"
   ]
  },
  {
   "cell_type": "code",
   "execution_count": 19,
   "metadata": {},
   "outputs": [
    {
     "name": "stdout",
     "output_type": "stream",
     "text": [
      "Updated list of friends: ['Aman', 'Khushi', 'Heta', 'Heta', 'Heta', 'Heta', 'Heta', 'Heta', 'Harsh', 'Nidhi', 'Abhishek', 'Pranjal']\n"
     ]
    }
   ],
   "source": [
    "new_name = \"Heta\"\n",
    "position =   2\n",
    "friends.insert(position, new_name)\n",
    "print(\"Updated list of friends:\", friends)"
   ]
  },
  {
   "cell_type": "markdown",
   "metadata": {},
   "source": [
    "__Exercise 4 e)__ Print the list. Does it look as expected?"
   ]
  },
  {
   "cell_type": "code",
   "execution_count": 15,
   "metadata": {},
   "outputs": [
    {
     "name": "stdout",
     "output_type": "stream",
     "text": [
      "['Aman', 'Khushi', 'Heta', 'Heta', 'Heta', 'Harsh', 'Nidhi', 'Abhishek', 'Pranjal']\n"
     ]
    }
   ],
   "source": [
    "print(friends)"
   ]
  },
  {
   "cell_type": "markdown",
   "metadata": {},
   "source": [
    "__Exercise 4 f)__ Remove a name from the list using remove(_item_)"
   ]
  },
  {
   "cell_type": "code",
   "execution_count": 23,
   "metadata": {},
   "outputs": [
    {
     "name": "stdout",
     "output_type": "stream",
     "text": [
      "Updated list of friends: ['Aman', 'Khushi', 'Heta', 'Heta', 'Heta', 'Harsh', 'Nidhi', 'Abhishek', 'Pranjal']\n"
     ]
    }
   ],
   "source": [
    "name_to_remove = \"Heta\"\n",
    "friends.remove(name_to_remove)\n",
    "print(\"Updated list of friends:\", friends)\n"
   ]
  },
  {
   "cell_type": "markdown",
   "metadata": {},
   "source": [
    "__Exercise 4 g)__ Print the list. Does it look as expected?"
   ]
  },
  {
   "cell_type": "code",
   "execution_count": 24,
   "metadata": {},
   "outputs": [
    {
     "name": "stdout",
     "output_type": "stream",
     "text": [
      "['Aman', 'Khushi', 'Heta', 'Heta', 'Heta', 'Harsh', 'Nidhi', 'Abhishek', 'Pranjal']\n"
     ]
    }
   ],
   "source": [
    "print(friends)"
   ]
  },
  {
   "cell_type": "markdown",
   "metadata": {},
   "source": [
    "# Example: For loops"
   ]
  },
  {
   "cell_type": "code",
   "execution_count": 10,
   "metadata": {},
   "outputs": [
    {
     "name": "stdout",
     "output_type": "stream",
     "text": [
      "orange\n",
      "apple\n",
      "pear\n",
      "banana\n",
      "kiwi\n",
      "mango\n",
      "grapes\n"
     ]
    }
   ],
   "source": [
    "for fruit in fruits:\n",
    "    print(fruit)"
   ]
  },
  {
   "cell_type": "code",
   "execution_count": 11,
   "metadata": {},
   "outputs": [
    {
     "name": "stdout",
     "output_type": "stream",
     "text": [
      "oranges\n",
      "apples\n",
      "pears\n",
      "bananas\n",
      "kiwis\n",
      "mangos\n",
      "grapess\n"
     ]
    }
   ],
   "source": [
    "for fruit in fruits:\n",
    "    fruit = fruit + 's'\n",
    "    print(fruit)"
   ]
  },
  {
   "cell_type": "markdown",
   "metadata": {},
   "source": [
    "__Exercise 5 a)__ Print each name in your list of names"
   ]
  },
  {
   "cell_type": "code",
   "execution_count": 33,
   "metadata": {},
   "outputs": [
    {
     "name": "stdout",
     "output_type": "stream",
     "text": [
      "Aman\n",
      "Khushi\n",
      "Heta\n",
      "Heta\n",
      "Heta\n",
      "Harsh\n",
      "Nidhi\n",
      "Abhishek\n",
      "Pranjal\n"
     ]
    }
   ],
   "source": [
    "for name in friends:\n",
    "    print(name)"
   ]
  },
  {
   "cell_type": "markdown",
   "metadata": {},
   "source": [
    "__Exercise 5 b)__ Add a small change to each name in your list"
   ]
  },
  {
   "cell_type": "code",
   "execution_count": 34,
   "metadata": {},
   "outputs": [
    {
     "name": "stdout",
     "output_type": "stream",
     "text": [
      "Aman (BFF)\n",
      "Khushi (BFF)\n",
      "Heta (BFF)\n",
      "Heta (BFF)\n",
      "Heta (BFF)\n",
      "Harsh (BFF)\n",
      "Nidhi (BFF)\n",
      "Abhishek (BFF)\n",
      "Pranjal (BFF)\n"
     ]
    }
   ],
   "source": [
    "modified_friends = [name + \" (BFF)\" for name in friends]\n",
    "for modified_name in modified_friends:\n",
    "    print(modified_name)"
   ]
  },
  {
   "cell_type": "markdown",
   "metadata": {},
   "source": [
    "# Example: Dictionaries"
   ]
  },
  {
   "cell_type": "code",
   "execution_count": 19,
   "metadata": {},
   "outputs": [],
   "source": [
    "countries = {\"sweden\": \"stockholm\", \"denmark\": \"copenhagen\", \"norway\": \"oslo\"}\n"
   ]
  },
  {
   "cell_type": "code",
   "execution_count": 14,
   "metadata": {},
   "outputs": [
    {
     "ename": "NameError",
     "evalue": "name 'countries' is not defined",
     "output_type": "error",
     "traceback": [
      "\u001b[1;31m---------------------------------------------------------------------------\u001b[0m",
      "\u001b[1;31mNameError\u001b[0m                                 Traceback (most recent call last)",
      "Cell \u001b[1;32mIn[14], line 1\u001b[0m\n\u001b[1;32m----> 1\u001b[0m capital \u001b[38;5;241m=\u001b[39m countries[\u001b[38;5;124m\"\u001b[39m\u001b[38;5;124msweden\u001b[39m\u001b[38;5;124m\"\u001b[39m]\n\u001b[0;32m      2\u001b[0m \u001b[38;5;28mprint\u001b[39m(capital)\n",
      "\u001b[1;31mNameError\u001b[0m: name 'countries' is not defined"
     ]
    }
   ],
   "source": [
    "capital = countries[\"sweden\"]\n",
    "print(capital)"
   ]
  },
  {
   "cell_type": "markdown",
   "metadata": {},
   "source": [
    "__Exercise 6 a)__ Get the capital of Denmark and Norway using the dictionary _countries_"
   ]
  },
  {
   "cell_type": "code",
   "execution_count": 18,
   "metadata": {},
   "outputs": [
    {
     "name": "stdout",
     "output_type": "stream",
     "text": [
      "The capital of Denmark is: copenhagen\n",
      "The capital of Norway is: oslo\n"
     ]
    }
   ],
   "source": [
    "capital_denmark = countries[\"denmark\"]\n",
    "capital_norway = countries[\"norway\"]\n",
    "\n",
    "print(\"The capital of Denmark is:\", capital_denmark)\n",
    "print(\"The capital of Norway is:\", capital_norway)"
   ]
  },
  {
   "cell_type": "markdown",
   "metadata": {},
   "source": [
    "__Exercise 6 b)__ Add a new key-value pair to the dictionary _countries_"
   ]
  },
  {
   "cell_type": "code",
   "execution_count": 22,
   "metadata": {},
   "outputs": [],
   "source": [
    "countries[\"finland\"] = \"helsinki\"\n",
    "\n"
   ]
  },
  {
   "cell_type": "markdown",
   "metadata": {},
   "source": [
    "__Exercise 6 c)__ Print the dictionary. Does it look as expected?"
   ]
  },
  {
   "cell_type": "code",
   "execution_count": 21,
   "metadata": {},
   "outputs": [
    {
     "name": "stdout",
     "output_type": "stream",
     "text": [
      "{'sweden': 'stockholm', 'denmark': 'copenhagen', 'norway': 'oslo', 'finland': 'helsinki'}\n"
     ]
    }
   ],
   "source": [
    "print(countries)"
   ]
  },
  {
   "cell_type": "markdown",
   "metadata": {},
   "source": [
    "__Exercise 6 d)__ Update Sweden's capital to Malmo"
   ]
  },
  {
   "cell_type": "code",
   "execution_count": 24,
   "metadata": {},
   "outputs": [
    {
     "name": "stdout",
     "output_type": "stream",
     "text": [
      "{'sweden': 'malmo', 'denmark': 'copenhagen', 'norway': 'oslo', 'finland': 'helsinki'}\n"
     ]
    }
   ],
   "source": [
    "\n",
    "countries['sweden'] = 'malmo'\n",
    "print(countries)\n"
   ]
  },
  {
   "cell_type": "markdown",
   "metadata": {},
   "source": [
    "__Exercise 6 e)__ Print the dictionary. Does it look as expected?"
   ]
  },
  {
   "cell_type": "markdown",
   "metadata": {},
   "source": [
    "print(countries)"
   ]
  },
  {
   "cell_type": "markdown",
   "metadata": {},
   "source": [
    "__Exercise 6 f)__ Remove the key-value pair Sweden-Stockholm from the dictionary"
   ]
  },
  {
   "cell_type": "code",
   "execution_count": 30,
   "metadata": {},
   "outputs": [
    {
     "ename": "KeyError",
     "evalue": "'sweden'",
     "output_type": "error",
     "traceback": [
      "\u001b[1;31m---------------------------------------------------------------------------\u001b[0m",
      "\u001b[1;31mKeyError\u001b[0m                                  Traceback (most recent call last)",
      "Cell \u001b[1;32mIn[30], line 1\u001b[0m\n\u001b[1;32m----> 1\u001b[0m \u001b[38;5;28;01mdel\u001b[39;00m countries[\u001b[38;5;124m'\u001b[39m\u001b[38;5;124msweden\u001b[39m\u001b[38;5;124m'\u001b[39m]\n\u001b[0;32m      2\u001b[0m \u001b[38;5;28mprint\u001b[39m(countries)\n",
      "\u001b[1;31mKeyError\u001b[0m: 'sweden'"
     ]
    }
   ],
   "source": [
    "del countries['sweden']\n",
    "print(countries)\n",
    "\n",
    "\n"
   ]
  },
  {
   "cell_type": "markdown",
   "metadata": {},
   "source": [
    "__Exercise 6 g)__ Print the dictionary. Does it look as expected?"
   ]
  },
  {
   "cell_type": "code",
   "execution_count": 31,
   "metadata": {},
   "outputs": [
    {
     "name": "stdout",
     "output_type": "stream",
     "text": [
      "{'denmark': 'copenhagen', 'norway': 'oslo', 'finland': 'helsinki'}\n"
     ]
    }
   ],
   "source": [
    "print(countries)"
   ]
  },
  {
   "cell_type": "markdown",
   "metadata": {},
   "source": [
    "__Exercise 6 g)__ Print each key-value pair in the dictionary countries"
   ]
  },
  {
   "cell_type": "code",
   "execution_count": 14,
   "metadata": {},
   "outputs": [
    {
     "name": "stdout",
     "output_type": "stream",
     "text": [
      "Country: sweden, Capital: stockholm\n",
      "Country: denmark, Capital: copenhagen\n",
      "Country: norway, Capital: oslo\n"
     ]
    }
   ],
   "source": [
    "for key, value in countries.items():\n",
    "    print(f\"Country: {key}, Capital: {value}\")"
   ]
  },
  {
   "cell_type": "markdown",
   "metadata": {},
   "source": [
    "# Example: Functions"
   ]
  },
  {
   "cell_type": "code",
   "execution_count": null,
   "metadata": {},
   "outputs": [],
   "source": [
    "def function_name(param1, param2):\n",
    "    # Block of code"
   ]
  },
  {
   "cell_type": "markdown",
   "metadata": {},
   "source": [
    "We will start with creating a function that can add two numbers."
   ]
  },
  {
   "cell_type": "code",
   "execution_count": 44,
   "metadata": {},
   "outputs": [
    {
     "name": "stdout",
     "output_type": "stream",
     "text": [
      "The addition is: 17\n"
     ]
    }
   ],
   "source": [
    "def add_two_numbers(a, b):\n",
    "  \n",
    "  return a + b\n",
    "result = add_two_numbers(8,9)\n",
    "print(\"The addition is:\", result)\n"
   ]
  },
  {
   "cell_type": "markdown",
   "metadata": {},
   "source": [
    "Let's try to use it!"
   ]
  },
  {
   "cell_type": "code",
   "execution_count": null,
   "metadata": {},
   "outputs": [],
   "source": [
    "print(\"The addition is:\", result)"
   ]
  },
  {
   "cell_type": "markdown",
   "metadata": {},
   "source": [
    "__Exercise 7 a)__ Create a function that can calculate the difference between two numbers"
   ]
  },
  {
   "cell_type": "code",
   "execution_count": 37,
   "metadata": {},
   "outputs": [
    {
     "name": "stdout",
     "output_type": "stream",
     "text": [
      "The difference is: 0\n"
     ]
    }
   ],
   "source": [
    "def calculate_difference(num1, num2):\n",
    "    \n",
    "    return num1 - num2\n",
    "\n",
    "\n",
    "result = calculate_difference(5, 5)\n",
    "print(\"The difference is:\", result)"
   ]
  },
  {
   "cell_type": "markdown",
   "metadata": {},
   "source": [
    "__Exercise 7 b)__ Use the function. Does it return the expected results?"
   ]
  },
  {
   "cell_type": "code",
   "execution_count": 39,
   "metadata": {},
   "outputs": [
    {
     "name": "stdout",
     "output_type": "stream",
     "text": [
      "The difference is: 0\n"
     ]
    }
   ],
   "source": [
    "print(\"The difference is:\", result)"
   ]
  },
  {
   "cell_type": "markdown",
   "metadata": {},
   "source": [
    "__Exercise 7 c)__ Create a function that can multiply two numbers"
   ]
  },
  {
   "cell_type": "code",
   "execution_count": 40,
   "metadata": {},
   "outputs": [
    {
     "name": "stdout",
     "output_type": "stream",
     "text": [
      "The product is: 32\n"
     ]
    }
   ],
   "source": [
    "def multiply_numbers(num1, num2):\n",
    "    \n",
    "    return num1 * num2\n",
    "\n",
    "# Example usage:\n",
    "result = multiply_numbers(8, 4)\n",
    "print(\"The product is:\", result)"
   ]
  },
  {
   "cell_type": "markdown",
   "metadata": {},
   "source": [
    "__Exercise 7 d)__ Use the function. Does it return the expected results?"
   ]
  },
  {
   "cell_type": "code",
   "execution_count": 56,
   "metadata": {},
   "outputs": [
    {
     "name": "stdout",
     "output_type": "stream",
     "text": [
      "The product is: 32\n"
     ]
    }
   ],
   "source": [
    "print(\"The product is:\", result)"
   ]
  },
  {
   "cell_type": "markdown",
   "metadata": {},
   "source": [
    "__Exercise 7 e)__ Create a function that can divide two numbers"
   ]
  },
  {
   "cell_type": "code",
   "execution_count": null,
   "metadata": {},
   "outputs": [],
   "source": [
    "def divide_numbers(num1, num2):\n",
    "    \n",
    "    return num1 / num2\n",
    "\n",
    "# Example usage:\n",
    "result = multiply_numbers(8, 4)\n",
    "print(\"The product is:\", result)"
   ]
  },
  {
   "cell_type": "markdown",
   "metadata": {},
   "source": [
    "__Exercise 7 f)__ Use the function. Does it return the expected results?"
   ]
  },
  {
   "cell_type": "code",
   "execution_count": 57,
   "metadata": {},
   "outputs": [
    {
     "name": "stdout",
     "output_type": "stream",
     "text": [
      "The product is: 32\n"
     ]
    }
   ],
   "source": [
    "print(\"The product is:\", result)"
   ]
  },
  {
   "cell_type": "code",
   "execution_count": null,
   "metadata": {},
   "outputs": [],
   "source": []
  },
  {
   "cell_type": "code",
   "execution_count": null,
   "metadata": {},
   "outputs": [],
   "source": []
  }
 ],
 "metadata": {
  "kernelspec": {
   "display_name": "Python 3 (ipykernel)",
   "language": "python",
   "name": "python3"
  },
  "language_info": {
   "codemirror_mode": {
    "name": "ipython",
    "version": 3
   },
   "file_extension": ".py",
   "mimetype": "text/x-python",
   "name": "python",
   "nbconvert_exporter": "python",
   "pygments_lexer": "ipython3",
   "version": "3.11.4"
  }
 },
 "nbformat": 4,
 "nbformat_minor": 2
}
