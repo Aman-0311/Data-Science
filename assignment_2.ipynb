{
 "cells": [
  {
   "cell_type": "markdown",
   "id": "9ab7acb3",
   "metadata": {},
   "source": [
    "# Python Assignment - 2\n",
    "### Carries - 30 marks"
   ]
  },
  {
   "cell_type": "markdown",
   "id": "d4122e1a",
   "metadata": {},
   "source": [
    "## What is List? How will you reverse a list?"
   ]
  },
  {
   "cell_type": "code",
   "execution_count": 1,
   "id": "ef44f9e9",
   "metadata": {},
   "outputs": [
    {
     "name": "stdout",
     "output_type": "stream",
     "text": [
      "[5, 4, 3, 2, 1]\n"
     ]
    }
   ],
   "source": [
    "#A list in Python is a collection of items that can be of different data types. It is mutable, meaning that we can modify its content. Lists are ordered, which means that the order of elements in the list is preserved.\n",
    "my_list = [1, 2, 3, 4, 5]\n",
    "my_list.reverse()\n",
    "print(my_list)"
   ]
  },
  {
   "cell_type": "markdown",
   "id": "69255251",
   "metadata": {},
   "source": [
    "# How will you compare two lists?"
   ]
  },
  {
   "cell_type": "code",
   "execution_count": 2,
   "id": "ee751ef2",
   "metadata": {},
   "outputs": [
    {
     "name": "stdout",
     "output_type": "stream",
     "text": [
      "True\n",
      "False\n"
     ]
    }
   ],
   "source": [
    "list1 = [1, 2, 3, 4, 5]\n",
    "list2 = [1, 2, 3, 4, 5]\n",
    "list3 = [5, 4, 3, 2, 1]\n",
    "print(list1 == list2)\n",
    "print(list1 == list3)\n"
   ]
  },
  {
   "cell_type": "markdown",
   "id": "367150d6",
   "metadata": {},
   "source": [
    "###  How will you remove last object from a list? Suppose list1 is [2, 33, 222, 14, and 25], what is list1 [-1]? "
   ]
  },
  {
   "cell_type": "code",
   "execution_count": 3,
   "id": "9364a001",
   "metadata": {},
   "outputs": [
    {
     "name": "stdout",
     "output_type": "stream",
     "text": [
      "35\n"
     ]
    }
   ],
   "source": [
    "list1 = [22, 56, 789, 26, 35]\n",
    "last_object = list1.pop()\n",
    "print(last_object)\n"
   ]
  },
  {
   "cell_type": "markdown",
   "id": "9ad2912e",
   "metadata": {},
   "source": [
    "### Differentiate between append () and extend () methods? "
   ]
  },
  {
   "cell_type": "code",
   "execution_count": null,
   "id": "9f0d5d58",
   "metadata": {},
   "outputs": [],
   "source": [
    "# the append() method adds a single element to the end of the list, while the extend() method adds the elements of a given iterable to the end of the list.\n"
   ]
  },
  {
   "cell_type": "markdown",
   "id": "5f8c10ed",
   "metadata": {},
   "source": [
    "### Write a Python program to find the second smallest number in a list."
   ]
  },
  {
   "cell_type": "code",
   "execution_count": 4,
   "id": "79acc6a9",
   "metadata": {},
   "outputs": [
    {
     "name": "stdout",
     "output_type": "stream",
     "text": [
      "14\n"
     ]
    }
   ],
   "source": [
    "def second_smallest(numbers):\n",
    "    return sorted(numbers)[1]\n",
    "numbers = [14,78,15,87,12,58]\n",
    "print(second_smallest(numbers))\n"
   ]
  },
  {
   "cell_type": "markdown",
   "id": "6ded1b65",
   "metadata": {},
   "source": [
    "### Write a Python program to find the length of a tuple."
   ]
  },
  {
   "cell_type": "code",
   "execution_count": 5,
   "id": "61cfffe0",
   "metadata": {},
   "outputs": [
    {
     "data": {
      "text/plain": [
       "5"
      ]
     },
     "execution_count": 5,
     "metadata": {},
     "output_type": "execute_result"
    }
   ],
   "source": [
    "tuple1 = (1, 2, 3, 4, 5)\n",
    "len(tuple1)\n"
   ]
  },
  {
   "cell_type": "markdown",
   "id": "86d7bc5d",
   "metadata": {},
   "source": [
    "## Write a Python program to reverse a tuple."
   ]
  },
  {
   "cell_type": "code",
   "execution_count": 6,
   "id": "161ca274",
   "metadata": {},
   "outputs": [
    {
     "name": "stdout",
     "output_type": "stream",
     "text": [
      "(5, 4, 3, 2, 1)\n"
     ]
    }
   ],
   "source": [
    "reversed_tuple = tuple1[::-1]\n",
    "print(reversed_tuple)"
   ]
  },
  {
   "cell_type": "code",
   "execution_count": null,
   "id": "678ce2c8",
   "metadata": {},
   "outputs": [],
   "source": []
  },
  {
   "cell_type": "markdown",
   "id": "2a982267",
   "metadata": {},
   "source": [
    "### Write a Python program to remove duplicates from a list. "
   ]
  },
  {
   "cell_type": "code",
   "execution_count": 7,
   "id": "94d4beb8",
   "metadata": {},
   "outputs": [
    {
     "name": "stdout",
     "output_type": "stream",
     "text": [
      "[1, 2, 3, 4, 5]\n"
     ]
    }
   ],
   "source": [
    "def remove_duplicates(list1):\n",
    "    set1 = set(list1)\n",
    "    return list(set1)\n",
    "list1 = [1, 2, 3, 4, 5, 1, 2, 3]\n",
    "print(remove_duplicates(list1))\n",
    "\n"
   ]
  },
  {
   "cell_type": "markdown",
   "id": "2573940b",
   "metadata": {},
   "source": [
    "## Write a Python function that takes a list and returns a new list with unique elements of the first list."
   ]
  },
  {
   "cell_type": "code",
   "execution_count": 8,
   "id": "6c34b94a",
   "metadata": {},
   "outputs": [
    {
     "name": "stdout",
     "output_type": "stream",
     "text": [
      "[1, 2, 3, 4, 5]\n"
     ]
    }
   ],
   "source": [
    "def remove_duplicates(list1):\n",
    "    unique_list = []\n",
    "    for x in list1:\n",
    "        if x not in unique_list:\n",
    "            unique_list.append(x)\n",
    "    return unique_list\n",
    "list1 = [1, 2, 3, 4, 5, 1, 2, 3]\n",
    "print(remove_duplicates(list1))"
   ]
  },
  {
   "cell_type": "markdown",
   "id": "569027d9",
   "metadata": {},
   "source": [
    "###  Write a Python program to check a list is empty or not. "
   ]
  },
  {
   "cell_type": "code",
   "execution_count": 9,
   "id": "fd71c169",
   "metadata": {},
   "outputs": [
    {
     "name": "stdout",
     "output_type": "stream",
     "text": [
      "Enter a list: 58\n",
      "The list is not empty.\n"
     ]
    }
   ],
   "source": [
    "def is_list_empty(list1):\n",
    "    if len(list1) == 0:\n",
    "        return True\n",
    "    else:\n",
    "        return False\n",
    "list1 = input(\"Enter a list: \")\n",
    "if is_list_empty(list1):\n",
    "    print(\"The list is empty.\")\n",
    "else:\n",
    "    print(\"The list is not empty.\")"
   ]
  },
  {
   "cell_type": "markdown",
   "id": "c64d9e48",
   "metadata": {},
   "source": [
    "### Write a Python function to get the largest number, smallest num and sum of all from a list. "
   ]
  },
  {
   "cell_type": "code",
   "execution_count": 11,
   "id": "155dd0e4",
   "metadata": {},
   "outputs": [
    {
     "data": {
      "text/plain": [
       "(78, 14, 333)"
      ]
     },
     "execution_count": 11,
     "metadata": {},
     "output_type": "execute_result"
    }
   ],
   "source": [
    "def get_largest_smallest_and_sum(list1):\n",
    "    largest = list1[0]\n",
    "    smallest = list1[0]\n",
    "    sum = 0\n",
    "    for num in list1:\n",
    "        if num > largest:\n",
    "            largest = num\n",
    "        if num < smallest:\n",
    "            smallest = num\n",
    "        sum += num\n",
    "    return largest, smallest, sum\n",
    "number = [47,14,52,78,63,54,25]\n",
    "get_largest_smallest_and_sum(number)\n"
   ]
  },
  {
   "cell_type": "markdown",
   "id": "80f8354d",
   "metadata": {},
   "source": [
    "### Write a Python program to get unique values from a list "
   ]
  },
  {
   "cell_type": "code",
   "execution_count": 12,
   "id": "c7ab6392",
   "metadata": {},
   "outputs": [
    {
     "data": {
      "text/plain": [
       "[1, 2, 3, 4, 5]"
      ]
     },
     "execution_count": 12,
     "metadata": {},
     "output_type": "execute_result"
    }
   ],
   "source": [
    "def get_unique_values(list1):\n",
    "    unique_values = set(list1)\n",
    "    unique_values = list(unique_values)\n",
    "    return unique_values\n",
    "list1 = [1, 2, 3, 4, 5, 1, 2, 3]\n",
    "get_unique_values(list1)\n"
   ]
  },
  {
   "cell_type": "markdown",
   "id": "a62c3d8c",
   "metadata": {},
   "source": [
    "### Write a Python program to split a list into different variables."
   ]
  },
  {
   "cell_type": "code",
   "execution_count": 17,
   "id": "25bb05a2",
   "metadata": {},
   "outputs": [
    {
     "name": "stdout",
     "output_type": "stream",
     "text": [
      "1\n",
      "2\n",
      "3\n"
     ]
    }
   ],
   "source": [
    "list1 = [1, 2, 3]\n",
    "a, b, c = list1\n",
    "print(a)\n",
    "print(b)\n",
    "print(c)"
   ]
  },
  {
   "cell_type": "markdown",
   "id": "f85589f9",
   "metadata": {},
   "source": [
    "### Write a Python program to check whether an element exists within a tuple"
   ]
  },
  {
   "cell_type": "code",
   "execution_count": 32,
   "id": "84d3d847",
   "metadata": {},
   "outputs": [
    {
     "name": "stdout",
     "output_type": "stream",
     "text": [
      "Enter an element to check: 87\n",
      "87 does not exist in the tuple.\n"
     ]
    }
   ],
   "source": [
    "\n",
    "my_tuple = (1, 2, 3, 4, 5)\n",
    "\n",
    "# Element to check\n",
    "element_to_check = int(input(\"Enter an element to check: \"))\n",
    "\n",
    "# Check if the element exists in the tuple\n",
    "if element_to_check in my_tuple:\n",
    "    print(f\"{element_to_check} exists in the tuple.\")\n",
    "else:\n",
    "    print(f\"{element_to_check} does not exist in the tuple.\")\n"
   ]
  },
  {
   "cell_type": "markdown",
   "id": "f9fdf431",
   "metadata": {},
   "source": [
    "### Write a Python program to convert a list to a tuple. "
   ]
  },
  {
   "cell_type": "code",
   "execution_count": 19,
   "id": "55b39659",
   "metadata": {},
   "outputs": [
    {
     "name": "stdout",
     "output_type": "stream",
     "text": [
      "(1, 2, 3, 4, 5)\n"
     ]
    }
   ],
   "source": [
    "list1 = [1, 2, 3, 4, 5]\n",
    "tuple1 = tuple(list1)\n",
    "print(tuple1)"
   ]
  },
  {
   "cell_type": "markdown",
   "id": "9b882e05",
   "metadata": {},
   "source": [
    "### Write a Python program to find the repeated items of a tuple."
   ]
  },
  {
   "cell_type": "code",
   "execution_count": 20,
   "id": "9b81129e",
   "metadata": {},
   "outputs": [
    {
     "name": "stdout",
     "output_type": "stream",
     "text": [
      "[1, 2]\n"
     ]
    }
   ],
   "source": [
    "def find_repeated_items_using_dictionary(tuple1):\n",
    "  dict1 = {}\n",
    "  for element in tuple1:\n",
    "    if element in dict1:\n",
    "      dict1[element] += 1\n",
    "    else:\n",
    "      dict1[element] = 1\n",
    "  repeated_items = []\n",
    "  for key, value in dict1.items():\n",
    "    if value > 1:\n",
    "      repeated_items.append(key)\n",
    "\n",
    "  return repeated_items\n",
    "tuple1 = (1, 2, 3, 1, 4, 5, 2)\n",
    "print(find_repeated_items_using_dictionary(tuple1))\n"
   ]
  },
  {
   "cell_type": "markdown",
   "id": "a4b253d1",
   "metadata": {},
   "source": [
    "###  Write a Python program to remove an empty tuple(s) from a list of tuples"
   ]
  },
  {
   "cell_type": "code",
   "execution_count": 21,
   "id": "5b573974",
   "metadata": {},
   "outputs": [
    {
     "name": "stdout",
     "output_type": "stream",
     "text": [
      "[(1, 2, 3), (4, 5, 6), (7, 8, 9)]\n"
     ]
    }
   ],
   "source": [
    "my_list = [(1,2,3), (), (4,5,6), (), (7,8,9)]\n",
    "my_list = [t for t in my_list if t]\n",
    "print(my_list)"
   ]
  },
  {
   "cell_type": "markdown",
   "id": "e4b2114c",
   "metadata": {},
   "source": [
    "### Write a Python program to unzip a list of tuples into individual lists. "
   ]
  },
  {
   "cell_type": "code",
   "execution_count": null,
   "id": "1b624da0",
   "metadata": {},
   "outputs": [],
   "source": [
    "my_list = [(1, 2, 3), (4, 5, 6), (7, 8, 9)]\n",
    "a,b,c = zip(*my_list) \n",
    "print(a)\n",
    "print(b)\n",
    "print(c)"
   ]
  },
  {
   "cell_type": "markdown",
   "id": "f6c16416",
   "metadata": {},
   "source": [
    "### Write a Python function to check whether a number is in a given range"
   ]
  },
  {
   "cell_type": "code",
   "execution_count": 22,
   "id": "5c2e1e91",
   "metadata": {},
   "outputs": [
    {
     "data": {
      "text/plain": [
       "True"
      ]
     },
     "execution_count": 22,
     "metadata": {},
     "output_type": "execute_result"
    }
   ],
   "source": [
    "def is_in_range(number, start, end):\n",
    "  if start <= number <= end:\n",
    "    return True\n",
    "  else:\n",
    "    return False\n",
    "is_in_range(5, 1, 10)"
   ]
  },
  {
   "cell_type": "markdown",
   "id": "ca38d306",
   "metadata": {},
   "source": [
    "### Write a Python function that checks whether a passed string is palindrome or not "
   ]
  },
  {
   "cell_type": "code",
   "execution_count": 23,
   "id": "e20061fb",
   "metadata": {},
   "outputs": [
    {
     "data": {
      "text/plain": [
       "True"
      ]
     },
     "execution_count": 23,
     "metadata": {},
     "output_type": "execute_result"
    }
   ],
   "source": [
    "def is_palindrome(string):\n",
    "  string = string.lower().replace(\" \", \"\")\n",
    "  reversed_string = string[::-1]\n",
    "  return string == reversed_string\n",
    "is_palindrome(\"racecar\")"
   ]
  },
  {
   "cell_type": "markdown",
   "id": "19e7c4e5",
   "metadata": {},
   "source": [
    "### Write a Python program to returns sum of all divisors of a number "
   ]
  },
  {
   "cell_type": "code",
   "execution_count": 24,
   "id": "5fd0d815",
   "metadata": {},
   "outputs": [
    {
     "name": "stdout",
     "output_type": "stream",
     "text": [
      "1\n",
      "82\n",
      "32\n"
     ]
    }
   ],
   "source": [
    "def sum_of_divisors(n):\n",
    "  sum_of_divisors = 1\n",
    "  for i in range(2, int(n**0.5) + 1):\n",
    "    if n % i == 0:\n",
    "      sum_of_divisors += i + n // i\n",
    "\n",
    "  if int(n**0.5) * int(n**0.5) == n:\n",
    "    sum_of_divisors -= int(n**0.5)\n",
    "\n",
    "  return sum_of_divisors\n",
    "print(sum_of_divisors(11))\n",
    "print(sum_of_divisors(158))\n",
    "print(sum_of_divisors(58))\n"
   ]
  },
  {
   "cell_type": "markdown",
   "id": "e64676e6",
   "metadata": {},
   "source": [
    "### Write a Python program to find the maximum and minimum numbers from the specified decimal numbers. "
   ]
  },
  {
   "cell_type": "code",
   "execution_count": 25,
   "id": "119282e9",
   "metadata": {},
   "outputs": [
    {
     "name": "stdout",
     "output_type": "stream",
     "text": [
      "9.0\n",
      "1.2\n"
     ]
    }
   ],
   "source": [
    "def find_max_and_min(numbers):\n",
    "  \"\"\"\n",
    "  Finds the maximum and minimum numbers from a list of decimal numbers.\n",
    "  Args:\n",
    "    numbers: A list of decimal numbers.\n",
    "  Returns:\n",
    "    A tuple containing the maximum and minimum numbers.\n",
    "  \"\"\"\n",
    "  # Initialize the maximum and minimum numbers.\n",
    "  max_number = numbers[0]\n",
    "  min_number = numbers[0]\n",
    "  # Iterate over the remaining numbers.\n",
    "  for number in numbers[1:]:\n",
    "    # Update the maximum and minimum numbers if necessary.\n",
    "    if number > max_number:\n",
    "      max_number = number\n",
    "    if number < min_number:\n",
    "      min_number = number\n",
    "  # Return the maximum and minimum numbers.\n",
    "  return (max_number, min_number)\n",
    "numbers = [1.2, 3.4, 5.6, 7.8, 9.0]\n",
    "max_number, min_number = find_max_and_min(numbers)\n",
    "print(max_number)  \n",
    "print(min_number)"
   ]
  },
  {
   "cell_type": "markdown",
   "id": "afc120de",
   "metadata": {},
   "source": [
    "### Write a Python program to calculate the area of a parallelogram "
   ]
  },
  {
   "cell_type": "code",
   "execution_count": 27,
   "id": "0d4e61b6",
   "metadata": {},
   "outputs": [
    {
     "data": {
      "text/plain": [
       "495"
      ]
     },
     "execution_count": 27,
     "metadata": {},
     "output_type": "execute_result"
    }
   ],
   "source": [
    "def area_of_parallelogram(base, height):\n",
    "    return base * height\n",
    "area_of_parallelogram(55,9)"
   ]
  },
  {
   "cell_type": "markdown",
   "id": "23ab496f",
   "metadata": {},
   "source": [
    "### Write a Python function to check whether a number is perfect or not. "
   ]
  },
  {
   "cell_type": "code",
   "execution_count": 29,
   "id": "2d7e8da7",
   "metadata": {},
   "outputs": [
    {
     "data": {
      "text/plain": [
       "False"
      ]
     },
     "execution_count": 29,
     "metadata": {},
     "output_type": "execute_result"
    }
   ],
   "source": [
    "def is_perfect_number(n):\n",
    "  \"\"\"\n",
    "  Checks whether a number is perfect or not.\n",
    "  Args:\n",
    "    n: The number to check.\n",
    "  Returns:\n",
    "    True if the number is perfect, False otherwise.\n",
    "  \"\"\"\n",
    "  if n <= 1:\n",
    "    return False\n",
    "  # Find all the factors of n.\n",
    "  factors = set()\n",
    "  for i in range(2, int(n ** 0.5) + 1):\n",
    "    if n % i == 0:\n",
    "      factors.add(i)\n",
    "      factors.add(n // i)\n",
    "  # Check if the sum of the factors is equal to n.\n",
    "  return sum(factors) == n\n",
    "is_perfect_number(86)"
   ]
  },
  {
   "cell_type": "markdown",
   "id": "5e41e219",
   "metadata": {},
   "source": [
    "### Write a Python program to convert degree to radian"
   ]
  },
  {
   "cell_type": "code",
   "execution_count": 30,
   "id": "87fb8406",
   "metadata": {},
   "outputs": [
    {
     "name": "stdout",
     "output_type": "stream",
     "text": [
      "Enter the angle in degrees: 80\n",
      "The angle in radians is 1.3962634015954636.\n"
     ]
    }
   ],
   "source": [
    "import math\n",
    "def degrees_to_radians(degrees):\n",
    "    return degrees * math.pi / 180\n",
    "if __name__ == \"__main__\":\n",
    "  degrees = float(input(\"Enter the angle in degrees: \"))\n",
    "  radians = degrees_to_radians(degrees)\n",
    "  print(f\"The angle in radians is {radians}.\")\n"
   ]
  },
  {
   "cell_type": "markdown",
   "id": "368bba70",
   "metadata": {},
   "source": [
    "###  Write a Python program to calculate the area of a trapezoid "
   ]
  },
  {
   "cell_type": "code",
   "execution_count": null,
   "id": "34ef44e0",
   "metadata": {},
   "outputs": [],
   "source": [
    "def area_of_trapezoid(base1, base2, height):\n",
    "    return (base1 + base2) * height / 2\n",
    "area_of_trapezoid(23,25,8)"
   ]
  },
  {
   "cell_type": "markdown",
   "id": "8bf811b7",
   "metadata": {},
   "source": [
    "## Write a Python program to calculate surface volume and area of a cylinder "
   ]
  },
  {
   "cell_type": "code",
   "execution_count": 31,
   "id": "f5fc9dfb",
   "metadata": {},
   "outputs": [
    {
     "name": "stdout",
     "output_type": "stream",
     "text": [
      "The surface area of the cylinder is 73249.37431109961.\n",
      "The volume of the cylinder is 1117599.5953659937.\n"
     ]
    }
   ],
   "source": [
    "\n",
    "import math\n",
    "def surface_area_of_cylinder(radius, height):\n",
    "    return 2 * math.pi * radius * height + 2 * math.pi * radius ** 2\n",
    "def volume_of_cylinder(radius, height):\n",
    "    return math.pi * radius ** 2 * height\n",
    "radius = 87\n",
    "height = 47\n",
    "surface_area = surface_area_of_cylinder(radius, height)\n",
    "volume = volume_of_cylinder(radius, height)\n",
    "print(f\"The surface area of the cylinder is {surface_area}.\")\n",
    "print(f\"The volume of the cylinder is {volume}.\")\n"
   ]
  },
  {
   "cell_type": "code",
   "execution_count": null,
   "id": "28cae912",
   "metadata": {},
   "outputs": [],
   "source": []
  }
 ],
 "metadata": {
  "kernelspec": {
   "display_name": "Python 3 (ipykernel)",
   "language": "python",
   "name": "python3"
  },
  "language_info": {
   "codemirror_mode": {
    "name": "ipython",
    "version": 3
   },
   "file_extension": ".py",
   "mimetype": "text/x-python",
   "name": "python",
   "nbconvert_exporter": "python",
   "pygments_lexer": "ipython3",
   "version": "3.11.4"
  },
  "vscode": {
   "interpreter": {
    "hash": "5ae58900cfbb8c43ab3495913814b7cf26024f51651a94ce8bf64d6111688e8d"
   }
  }
 },
 "nbformat": 4,
 "nbformat_minor": 5
}
